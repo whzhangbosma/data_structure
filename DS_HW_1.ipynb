{
 "cells": [
  {
   "cell_type": "code",
   "execution_count": 11,
   "metadata": {},
   "outputs": [
    {
     "ename": "IndentationError",
     "evalue": "unexpected indent (<ipython-input-11-b55e7eedffaf>, line 3)",
     "output_type": "error",
     "traceback": [
      "\u001b[0;36m  File \u001b[0;32m\"<ipython-input-11-b55e7eedffaf>\"\u001b[0;36m, line \u001b[0;32m3\u001b[0m\n\u001b[0;31m    def maxProfit(self, prices):\u001b[0m\n\u001b[0m    ^\u001b[0m\n\u001b[0;31mIndentationError\u001b[0m\u001b[0;31m:\u001b[0m unexpected indent\n"
     ]
    }
   ],
   "source": [
    "# LC 121 \n",
    "\n",
    "    def maxProfit(self, prices):\n",
    "        \"\"\"\n",
    "        :type prices: List[int]\n",
    "        :rtype: int\n",
    "        \"\"\"\n",
    "        if len(prices)<2:\n",
    "            return 0\n",
    "        i_min, profit= prices[0], 0\n",
    "        for i in range(1,len(prices)):\n",
    "            if prices[i]>i_min:\n",
    "                i_max=prices[i]\n",
    "                profit=max(profit,i_max-i_min)\n",
    "            elif prices[i]<i_min:\n",
    "                i_min=prices[i]\n",
    "        return profit\n"
   ]
  },
  {
   "cell_type": "code",
   "execution_count": 2,
   "metadata": {},
   "outputs": [
    {
     "ename": "IndentationError",
     "evalue": "unexpected indent (<ipython-input-2-f9ae14a80263>, line 3)",
     "output_type": "error",
     "traceback": [
      "\u001b[0;36m  File \u001b[0;32m\"<ipython-input-2-f9ae14a80263>\"\u001b[0;36m, line \u001b[0;32m3\u001b[0m\n\u001b[0;31m    def maxProfit(self, prices):\u001b[0m\n\u001b[0m    ^\u001b[0m\n\u001b[0;31mIndentationError\u001b[0m\u001b[0;31m:\u001b[0m unexpected indent\n"
     ]
    }
   ],
   "source": [
    "# LC 122\n",
    "\n",
    "    def maxProfit(self, prices):\n",
    "        \"\"\"\n",
    "        :type prices: List[int]\n",
    "        :rtype: int\n",
    "        \"\"\"\n",
    "        profit=0\n",
    "        for i in range(1,len(prices)):\n",
    "            temp=prices[i]-prices[i-1]\n",
    "            if temp>0: profit+=temp\n",
    "        return profit      "
   ]
  },
  {
   "cell_type": "code",
   "execution_count": 3,
   "metadata": {},
   "outputs": [
    {
     "ename": "IndentationError",
     "evalue": "unexpected indent (<ipython-input-3-633a8ce9a20f>, line 2)",
     "output_type": "error",
     "traceback": [
      "\u001b[0;36m  File \u001b[0;32m\"<ipython-input-3-633a8ce9a20f>\"\u001b[0;36m, line \u001b[0;32m2\u001b[0m\n\u001b[0;31m    def maxProfit(self, prices):\u001b[0m\n\u001b[0m    ^\u001b[0m\n\u001b[0;31mIndentationError\u001b[0m\u001b[0;31m:\u001b[0m unexpected indent\n"
     ]
    }
   ],
   "source": [
    "# LC 123\n",
    "    def maxProfit(self, prices):\n",
    "        \"\"\"\n",
    "        :type prices: List[int]\n",
    "        :rtype: int\n",
    "        \"\"\"\n",
    "        n=len(prices)\n",
    "        if n<2: return 0\n",
    "        if n==2: return max(prices[1]-prices[0],0)\n",
    "        profit=[0]*n\n",
    "        maxInLastN=prices[n-1]\n",
    "        for i in range(n-2,-1,-1):\n",
    "            maxInLastN=max(maxInLastN,prices[i])\n",
    "            profit[i]=max(maxInLastN-prices[i],profit[i+1])\n",
    "        print(profit)\n",
    "        minInFirstN=prices[0]\n",
    "        for i in range(1,n):\n",
    "            minInFirstN=min(minInFirstN,prices[i-1])\n",
    "            profit[i]=max(profit[i-1],prices[i-1]-minInFirstN+profit[i])\n",
    "        return profit[-1]"
   ]
  },
  {
   "cell_type": "code",
   "execution_count": 4,
   "metadata": {},
   "outputs": [
    {
     "ename": "IndentationError",
     "evalue": "unexpected indent (<ipython-input-4-4c311b504bdf>, line 2)",
     "output_type": "error",
     "traceback": [
      "\u001b[0;36m  File \u001b[0;32m\"<ipython-input-4-4c311b504bdf>\"\u001b[0;36m, line \u001b[0;32m2\u001b[0m\n\u001b[0;31m    def findDisappearedNumbers(self, nums):\u001b[0m\n\u001b[0m    ^\u001b[0m\n\u001b[0;31mIndentationError\u001b[0m\u001b[0;31m:\u001b[0m unexpected indent\n"
     ]
    }
   ],
   "source": [
    "# LC 448\n",
    "    def findDisappearedNumbers(self, nums):\n",
    "        \"\"\"\n",
    "        :type nums: List[int]\n",
    "        :rtype: List[int]\n",
    "        \"\"\"\n",
    "        res=[]\n",
    "        for val in nums:\n",
    "            nums[abs(val)-1]=-abs(nums[abs(val)-1])\n",
    "        for i, val in enumerate(nums):\n",
    "            if val>0:\n",
    "                res.append(i+1)\n",
    "        return res"
   ]
  },
  {
   "cell_type": "code",
   "execution_count": 5,
   "metadata": {},
   "outputs": [
    {
     "ename": "IndentationError",
     "evalue": "unexpected indent (<ipython-input-5-16eaca5f1a2f>, line 2)",
     "output_type": "error",
     "traceback": [
      "\u001b[0;36m  File \u001b[0;32m\"<ipython-input-5-16eaca5f1a2f>\"\u001b[0;36m, line \u001b[0;32m2\u001b[0m\n\u001b[0;31m    def firstMissingPositive(self, nums):\u001b[0m\n\u001b[0m    ^\u001b[0m\n\u001b[0;31mIndentationError\u001b[0m\u001b[0;31m:\u001b[0m unexpected indent\n"
     ]
    }
   ],
   "source": [
    "# LC 41\n",
    "    def firstMissingPositive(self, nums):\n",
    "        \"\"\"\n",
    "        :type nums: List[int]\n",
    "        :rtype: int\n",
    "        \"\"\"\n",
    "        length=len(nums)\n",
    "        for i in range(length):\n",
    "            if nums[i]<=0:\n",
    "                nums[i]=length+1\n",
    "        for i in range(length):\n",
    "            if abs(nums[i])<length+1:\n",
    "                nums[abs(nums[i])-1]=-abs(nums[abs(nums[i])-1])\n",
    "        for i in range(length):\n",
    "            if nums[i]>0:\n",
    "                return i+1\n",
    "        return length+1"
   ]
  },
  {
   "cell_type": "code",
   "execution_count": 7,
   "metadata": {},
   "outputs": [
    {
     "ename": "IndentationError",
     "evalue": "unexpected indent (<ipython-input-7-79824495d4b4>, line 3)",
     "output_type": "error",
     "traceback": [
      "\u001b[0;36m  File \u001b[0;32m\"<ipython-input-7-79824495d4b4>\"\u001b[0;36m, line \u001b[0;32m3\u001b[0m\n\u001b[0;31m    def threeSum(self,nums,target):\u001b[0m\n\u001b[0m    ^\u001b[0m\n\u001b[0;31mIndentationError\u001b[0m\u001b[0;31m:\u001b[0m unexpected indent\n"
     ]
    }
   ],
   "source": [
    "# LC 18\n",
    "\n",
    "    def threeSum(self,nums,target):\n",
    "        nums.sort()\n",
    "        res=set()\n",
    "        for i,x in enumerate(nums[:-2]):\n",
    "            repeat=set()\n",
    "            for ele in nums[i+1:]:\n",
    "                if ele not in repeat:\n",
    "                    repeat.add(target-x-ele)\n",
    "                else:\n",
    "                    res.add((x,target-x-ele,ele))\n",
    "                    repeat.remove(ele)\n",
    "        return res\n",
    "        \n",
    "    def fourSum(self, nums, target):\n",
    "        \"\"\"\n",
    "        :type nums: List[int]\n",
    "        :type target: int\n",
    "        :rtype: List[List[int]]\n",
    "        \"\"\"\n",
    "        nums.sort()\n",
    "        final=[]\n",
    "        for i,x in enumerate(nums[:-3]):\n",
    "            if i>0 and nums[i]==nums[i-1]:\n",
    "                continue\n",
    "            repeat=set()\n",
    "            result=list(map(list,self.threeSum(nums[i+1:],target-x)))\n",
    "            for ele in result:\n",
    "                ele.append(x)\n",
    "                final.append(ele)\n",
    "        return final"
   ]
  },
  {
   "cell_type": "code",
   "execution_count": 8,
   "metadata": {},
   "outputs": [
    {
     "ename": "IndentationError",
     "evalue": "unexpected indent (<ipython-input-8-7e22907cfd95>, line 2)",
     "output_type": "error",
     "traceback": [
      "\u001b[0;36m  File \u001b[0;32m\"<ipython-input-8-7e22907cfd95>\"\u001b[0;36m, line \u001b[0;32m2\u001b[0m\n\u001b[0;31m    def majorityElement(self, nums):\u001b[0m\n\u001b[0m    ^\u001b[0m\n\u001b[0;31mIndentationError\u001b[0m\u001b[0;31m:\u001b[0m unexpected indent\n"
     ]
    }
   ],
   "source": [
    "# LC 229\n",
    "\n",
    "    def majorityElement(self, nums):\n",
    "        \"\"\"\n",
    "        :type nums: List[int]\n",
    "        :rtype: List[int]\n",
    "        \"\"\"\n",
    "        freq={}\n",
    "        for ele in nums:\n",
    "            freq[ele]=freq.get(ele,0)+1\n",
    "            if len(freq)==3:\n",
    "                to_be_del=[]\n",
    "                for key in freq.keys():\n",
    "                    freq[key]-=1\n",
    "                    if freq[key]==0:\n",
    "                        to_be_del.append(key)\n",
    "                for key in to_be_del:\n",
    "                    del freq[key]\n",
    "        res=[]\n",
    "        for key in freq.keys():\n",
    "            if nums.count(key)>int(len(nums)/3):\n",
    "                res.append(key)\n",
    "        return res"
   ]
  },
  {
   "cell_type": "code",
   "execution_count": 9,
   "metadata": {},
   "outputs": [
    {
     "ename": "IndentationError",
     "evalue": "unexpected indent (<ipython-input-9-204d3eaf6456>, line 3)",
     "output_type": "error",
     "traceback": [
      "\u001b[0;36m  File \u001b[0;32m\"<ipython-input-9-204d3eaf6456>\"\u001b[0;36m, line \u001b[0;32m3\u001b[0m\n\u001b[0;31m    def setZeroes(self, matrix):\u001b[0m\n\u001b[0m    ^\u001b[0m\n\u001b[0;31mIndentationError\u001b[0m\u001b[0;31m:\u001b[0m unexpected indent\n"
     ]
    }
   ],
   "source": [
    "# LC 73\n",
    "\n",
    "    def setZeroes(self, matrix):\n",
    "        \"\"\"\n",
    "        :type matrix: List[List[int]]\n",
    "        :rtype: void Do not return anything, modify matrix in-place instead.\n",
    "        \"\"\"\n",
    "        row=len(matrix)\n",
    "        col=len(matrix[0])\n",
    "        col0_flag=1\n",
    "        for i in range(row):\n",
    "            if matrix[i][0]==0:\n",
    "                col0_flag=0\n",
    "            for j in range(1,col):\n",
    "                if matrix[i][j]==0:\n",
    "                    matrix[i][0], matrix[0][j]=(0,0)\n",
    "        for i in range(1,row):\n",
    "            if matrix[i][0]==0:\n",
    "                for j in range(1,col):\n",
    "                    matrix[i][j]=0\n",
    "        for j in range(1,col):\n",
    "            if matrix[0][j]==0:\n",
    "                for i in range(1,row):\n",
    "                    matrix[i][j]=0\n",
    "        if matrix[0][0]==0:\n",
    "            for j in range(col):\n",
    "                matrix[0][j]=0\n",
    "        if col0_flag==0:\n",
    "            for i in range(row):\n",
    "                matrix[i][0]=0"
   ]
  },
  {
   "cell_type": "code",
   "execution_count": 10,
   "metadata": {},
   "outputs": [
    {
     "ename": "IndentationError",
     "evalue": "unexpected indent (<ipython-input-10-9ac64d8e9d3c>, line 3)",
     "output_type": "error",
     "traceback": [
      "\u001b[0;36m  File \u001b[0;32m\"<ipython-input-10-9ac64d8e9d3c>\"\u001b[0;36m, line \u001b[0;32m3\u001b[0m\n\u001b[0;31m    def gameOfLife(self, board):\u001b[0m\n\u001b[0m    ^\u001b[0m\n\u001b[0;31mIndentationError\u001b[0m\u001b[0;31m:\u001b[0m unexpected indent\n"
     ]
    }
   ],
   "source": [
    "# LC 289\n",
    "\n",
    "    def gameOfLife(self, board):\n",
    "        \"\"\"\n",
    "        :type board: List[List[int]]\n",
    "        :rtype: void Do not return anything, modify board in-place instead.\n",
    "        \"\"\"\n",
    "        m,n=len(board),len(board[0])\n",
    "        for p1 in range(m):\n",
    "            for p2 in range(n):\n",
    "                count=sum([1 for (i,j) in [(-1,-1),(-1,0),(-1,1),(0,-1),(0,1),(1,-1),(1,0),(1,1)] if (0<=p1+i<m and 0<=p2+j<n) and (board[p1+i][p2+j]==1 or board[p1+i][p2+j]==3)])\n",
    "                if board[p1][p2]==1 and (count<2 or count>3):\n",
    "                    board[p1][p2]=3\n",
    "                elif board[p1][p2]==0 and count==3:\n",
    "                    board[p1][p2]=2\n",
    "        for p1 in range(m):\n",
    "            for p2 in range(n):\n",
    "                if board[p1][p2]==2:\n",
    "                    board[p1][p2]=1\n",
    "                elif board[p1][p2]==3:\n",
    "                    board[p1][p2]=0"
   ]
  },
  {
   "cell_type": "code",
   "execution_count": 12,
   "metadata": {},
   "outputs": [
    {
     "ename": "NameError",
     "evalue": "name 'os' is not defined",
     "output_type": "error",
     "traceback": [
      "\u001b[0;31m---------------------------------------------------------------------------\u001b[0m",
      "\u001b[0;31mNameError\u001b[0m                                 Traceback (most recent call last)",
      "\u001b[0;32m<ipython-input-12-f201ad62082c>\u001b[0m in \u001b[0;36m<module>\u001b[0;34m()\u001b[0m\n\u001b[1;32m     18\u001b[0m \u001b[0;34m\u001b[0m\u001b[0m\n\u001b[1;32m     19\u001b[0m \u001b[0;32mif\u001b[0m \u001b[0m__name__\u001b[0m \u001b[0;34m==\u001b[0m \u001b[0;34m'__main__'\u001b[0m\u001b[0;34m:\u001b[0m\u001b[0;34m\u001b[0m\u001b[0m\n\u001b[0;32m---> 20\u001b[0;31m     \u001b[0mfptr\u001b[0m \u001b[0;34m=\u001b[0m \u001b[0mopen\u001b[0m\u001b[0;34m(\u001b[0m\u001b[0mos\u001b[0m\u001b[0;34m.\u001b[0m\u001b[0menviron\u001b[0m\u001b[0;34m[\u001b[0m\u001b[0;34m'OUTPUT_PATH'\u001b[0m\u001b[0;34m]\u001b[0m\u001b[0;34m,\u001b[0m \u001b[0;34m'w'\u001b[0m\u001b[0;34m)\u001b[0m\u001b[0;34m\u001b[0m\u001b[0m\n\u001b[0m\u001b[1;32m     21\u001b[0m \u001b[0;34m\u001b[0m\u001b[0m\n\u001b[1;32m     22\u001b[0m     \u001b[0mnm\u001b[0m \u001b[0;34m=\u001b[0m \u001b[0minput\u001b[0m\u001b[0;34m(\u001b[0m\u001b[0;34m)\u001b[0m\u001b[0;34m.\u001b[0m\u001b[0msplit\u001b[0m\u001b[0;34m(\u001b[0m\u001b[0;34m)\u001b[0m\u001b[0;34m\u001b[0m\u001b[0m\n",
      "\u001b[0;31mNameError\u001b[0m: name 'os' is not defined"
     ]
    }
   ],
   "source": [
    "# array manipulation: avoid to sum and subtract directly to all elements because array is huge\n",
    "\n",
    "def arrayManipulation(n, queries):\n",
    "    arr=[0]*n\n",
    "    for line in queries:\n",
    "        a=line[0]\n",
    "        b=line[1]\n",
    "        k=line[2]\n",
    "        arr[a-1]+=k\n",
    "        if b<n:\n",
    "            arr[b-1+1]-=k\n",
    "    maxi=0\n",
    "    temp=0\n",
    "    for ele in arr:\n",
    "        temp+=ele\n",
    "        if temp>maxi: maxi=temp\n",
    "    return maxi\n",
    "\n",
    "if __name__ == '__main__':\n",
    "    fptr = open(os.environ['OUTPUT_PATH'], 'w')\n",
    "\n",
    "    nm = input().split()\n",
    "\n",
    "    n = int(nm[0])\n",
    "\n",
    "    m = int(nm[1])\n",
    "\n",
    "    queries = []\n",
    "\n",
    "    for _ in range(m):\n",
    "        queries.append(list(map(int, input().rstrip().split())))\n",
    "\n",
    "    result = arrayManipulation(n, queries)\n",
    "\n",
    "    fptr.write(str(result) + '\\n')\n",
    "\n",
    "    fptr.close()"
   ]
  },
  {
   "cell_type": "code",
   "execution_count": null,
   "metadata": {},
   "outputs": [],
   "source": []
  }
 ],
 "metadata": {
  "anaconda-cloud": {},
  "kernelspec": {
   "display_name": "Python [conda env:anaconda3]",
   "language": "python",
   "name": "conda-env-anaconda3-py"
  },
  "language_info": {
   "codemirror_mode": {
    "name": "ipython",
    "version": 3
   },
   "file_extension": ".py",
   "mimetype": "text/x-python",
   "name": "python",
   "nbconvert_exporter": "python",
   "pygments_lexer": "ipython3",
   "version": "3.5.5"
  }
 },
 "nbformat": 4,
 "nbformat_minor": 2
}
